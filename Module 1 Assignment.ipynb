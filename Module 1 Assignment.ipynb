{
 "cells": [
  {
   "cell_type": "code",
   "execution_count": 4,
   "id": "a4b612ba",
   "metadata": {},
   "outputs": [
    {
     "name": "stdout",
     "output_type": "stream",
     "text": [
      "Enter a number546\n",
      "Enter a second number32\n",
      "The sum of the numbers is 578.0\n",
      "The difference between these numbers is 514.0\n"
     ]
    }
   ],
   "source": [
    "#This code takes two number inputs from the user and finds the sum and the difference.\n",
    "#It will subtract the smaller number from the larger number to find the difference.\n",
    "number1 = float(input('Enter a number'))\n",
    "if isinstance(number1,(int,float)):\n",
    "    number2 = float(input('Enter a second number'))\n",
    "    if isinstance(number2,(int,float)):\n",
    "        numSum = number1 + number2\n",
    "        print('The sum of the numbers is ' + str(numSum))\n",
    "        if number1 > number2:\n",
    "            numDif = number1 - number2\n",
    "        else:\n",
    "            numDif = number2 - number1\n",
    "        print('The difference between these numbers is ' + str(numDif))\n",
    "    else:\n",
    "        print('This is not a number')\n",
    "else:\n",
    "    print('This is not a number')\n",
    "    \n"
   ]
  },
  {
   "cell_type": "code",
   "execution_count": 6,
   "id": "68e44b7c",
   "metadata": {},
   "outputs": [
    {
     "name": "stdout",
     "output_type": "stream",
     "text": [
      "Enter a number578\n",
      "Enter a second number4\n",
      "The product of the numbers is 2312.0\n",
      "The quotient these numbers is 144.5\n"
     ]
    }
   ],
   "source": [
    "#This code takes two number inputs from the user and finds the product and the quotient\n",
    "#It will divide the smaller number into the larger number.\n",
    "number1 = float(input('Enter a number'))\n",
    "if isinstance(number1,(int,float)):\n",
    "    number2 = float(input('Enter a second number'))\n",
    "    if isinstance(number2,(int,float)):\n",
    "        numProd = number1 * number2\n",
    "        print('The product of the numbers is ' + str(numProd))\n",
    "        if number1 > number2:\n",
    "            numQuot = number1 / number2\n",
    "        else:\n",
    "            numQuot = number2 / number1\n",
    "        print('The quotient these numbers is ' + str(numQuot))\n",
    "    else:\n",
    "        print('This is not a number')\n",
    "else:\n",
    "    print('This is not a number')"
   ]
  },
  {
   "cell_type": "code",
   "execution_count": null,
   "id": "822e1f5e",
   "metadata": {},
   "outputs": [],
   "source": []
  }
 ],
 "metadata": {
  "kernelspec": {
   "display_name": "Python 3 (ipykernel)",
   "language": "python",
   "name": "python3"
  },
  "language_info": {
   "codemirror_mode": {
    "name": "ipython",
    "version": 3
   },
   "file_extension": ".py",
   "mimetype": "text/x-python",
   "name": "python",
   "nbconvert_exporter": "python",
   "pygments_lexer": "ipython3",
   "version": "3.9.13"
  }
 },
 "nbformat": 4,
 "nbformat_minor": 5
}
